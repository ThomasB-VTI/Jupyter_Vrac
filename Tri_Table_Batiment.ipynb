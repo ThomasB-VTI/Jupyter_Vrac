{
 "cells": [
  {
   "cell_type": "code",
   "execution_count": 1,
   "id": "f1d7164d-70e4-4cdd-a6a1-b3f92e1a83d9",
   "metadata": {},
   "outputs": [],
   "source": [
    "import numpy as np\n",
    "from tabulate import tabulate "
   ]
  },
  {
   "cell_type": "code",
   "execution_count": 2,
   "id": "61706f06-853e-43aa-b044-d3eb496e5c78",
   "metadata": {},
   "outputs": [
    {
     "name": "stdout",
     "output_type": "stream",
     "text": [
      "['E.1 E.1', 'E.1 E.2', 'E.1 E.3', 'E.2 E.1', 'E.2 E.2', 'E.2 E.3', 'E.3 E.1', 'E.3 E.2', 'E.3 E.3']\n"
     ]
    }
   ],
   "source": [
    "Nb_Entree = 3\n",
    "Nb_Empil = 3\n",
    "Nb_Etage = 4\n",
    "\n",
    "Taille_Bat = Nb_Entree * Nb_Empil\n",
    "Header = []\n",
    "for i in range(Nb_Entree):\n",
    "    for j in range(Nb_Empil):\n",
    "        Header.append(\"E.{} E.{}\".format(i+1,j+1))\n",
    "print(Header)"
   ]
  },
  {
   "cell_type": "code",
   "execution_count": null,
   "id": "3023b0b3-5834-4023-a407-3d6c96d58f76",
   "metadata": {},
   "outputs": [],
   "source": []
  },
  {
   "cell_type": "code",
   "execution_count": 3,
   "id": "00b990fc-c282-4cd3-849f-94c58c5783db",
   "metadata": {
    "tags": []
   },
   "outputs": [],
   "source": [
    "Lst_Typo_Default = {'T1' : 0,\n",
    "            'T1B': 0,\n",
    "            'T2' : 0,\n",
    "            'T2B': 0,\n",
    "            'T3' : 12,\n",
    "            'T3B': 0,\n",
    "            'T4' : 0,\n",
    "            'T5' : 12,\n",
    "            'T6' : 3,\n",
    "            'T7' : 3,\n",
    "           }\n",
    "\n",
    "#for Typo in list(reversed(list(Lst_Typo_Default.keys()))):\n",
    "    #print(Typo , \":\", Lst_Typo_Default.get(Typo))"
   ]
  },
  {
   "cell_type": "code",
   "execution_count": 4,
   "id": "90be235f-7f61-4c18-ac3b-426ca22af8ba",
   "metadata": {
    "tags": []
   },
   "outputs": [],
   "source": [
    "Lst_Typo = Lst_Typo_Default.copy()\n",
    "Bat_Array_Sans_RDC = [[0] * (Nb_Etage -1)] * (len(Header)) #Empilement en ligne\n",
    "\n",
    "for i in range(len(Bat_Array_Sans_RDC)):\n",
    "    for Typo in list(reversed(list(Lst_Typo.keys()))):\n",
    "        if Lst_Typo.get(Typo) >= (Nb_Etage -1):\n",
    "            Bat_Array_Sans_RDC[i] = [Typo] * (Nb_Etage -1)\n",
    "            Lst_Typo[Typo] = Lst_Typo[Typo] - (Nb_Etage -1)\n",
    "            break"
   ]
  },
  {
   "cell_type": "code",
   "execution_count": 5,
   "id": "2e502d1c-4b80-46b1-8d6b-07891c974855",
   "metadata": {},
   "outputs": [],
   "source": [
    "Bat_Array = Bat_Array_Sans_RDC.copy()\n",
    "for i in range(len(Bat_Array)):\n",
    "    Bat_Array[i].append(\"X\")\n",
    "    for Typo in list(reversed(list(Lst_Typo.keys()))):\n",
    "        if Lst_Typo.get(Typo) != 0:\n",
    "            Bat_Array[i][-1] = Typo\n",
    "            Lst_Typo[Typo] = Lst_Typo[Typo] - 1\n",
    "            break"
   ]
  },
  {
   "cell_type": "code",
   "execution_count": 6,
   "id": "9a519ba2-c2c8-45e4-a235-b1e856a43247",
   "metadata": {},
   "outputs": [],
   "source": [
    "Nom_Etage = [\"RdC\"]\n",
    "for i in range(Nb_Etage -1):\n",
    "    Nom_Etage.append(\"R + {}\".format(i + 1))\n",
    "                     \n",
    "Nom_Etage = list(reversed(Nom_Etage))"
   ]
  },
  {
   "cell_type": "code",
   "execution_count": 7,
   "id": "1f8b66d9-9a58-41ff-9e16-1c8a7782bbac",
   "metadata": {},
   "outputs": [
    {
     "name": "stdout",
     "output_type": "stream",
     "text": [
      "+-------+-----------+-----------+-----------+-----------+-----------+-----------+-----------+-----------+-----------+\n",
      "|       | E.1 E.1   | E.1 E.2   | E.1 E.3   | E.2 E.1   | E.2 E.2   | E.2 E.3   | E.3 E.1   | E.3 E.2   | E.3 E.3   |\n",
      "+=======+===========+===========+===========+===========+===========+===========+===========+===========+===========+\n",
      "| R + 3 | T7        | T6        | T5        | T5        | T5        | T5        | T3        | T3        | T3        |\n",
      "+-------+-----------+-----------+-----------+-----------+-----------+-----------+-----------+-----------+-----------+\n",
      "| R + 2 | T7        | T6        | T5        | T5        | T5        | T5        | T3        | T3        | T3        |\n",
      "+-------+-----------+-----------+-----------+-----------+-----------+-----------+-----------+-----------+-----------+\n",
      "| R + 1 | T7        | T6        | T5        | T5        | T5        | T5        | T3        | T3        | T3        |\n",
      "+-------+-----------+-----------+-----------+-----------+-----------+-----------+-----------+-----------+-----------+\n",
      "| RdC   | T3        | T3        | T3        | X         | X         | X         | X         | X         | X         |\n",
      "+-------+-----------+-----------+-----------+-----------+-----------+-----------+-----------+-----------+-----------+\n"
     ]
    }
   ],
   "source": [
    "print(tabulate(np.transpose(Bat_Array),headers=Header, tablefmt=\"grid\",showindex=Nom_Etage))"
   ]
  },
  {
   "cell_type": "code",
   "execution_count": 8,
   "id": "87424451-c412-4f9f-9cd1-0ca27840ffa7",
   "metadata": {},
   "outputs": [],
   "source": [
    "Bat_Array_Buffer = Bat_Array.copy()\n",
    "Bat_Array_Order = []\n",
    "\n",
    "while len(Bat_Array_Buffer) != 0:\n",
    "    Bat_Array_Order.append(Bat_Array_Buffer[0])\n",
    "    Bat_Array_Buffer.pop(0)\n",
    "    Bat_Array_Buffer.reverse()\n"
   ]
  },
  {
   "cell_type": "code",
   "execution_count": 9,
   "id": "8e37390e-df0e-41a9-bdd0-71f800e5ce8b",
   "metadata": {},
   "outputs": [
    {
     "name": "stdout",
     "output_type": "stream",
     "text": [
      "+-------+-----------+-----------+-----------+-----------+-----------+-----------+-----------+-----------+-----------+\n",
      "|       | E.1 E.1   | E.1 E.2   | E.1 E.3   | E.2 E.1   | E.2 E.2   | E.2 E.3   | E.3 E.1   | E.3 E.2   | E.3 E.3   |\n",
      "+=======+===========+===========+===========+===========+===========+===========+===========+===========+===========+\n",
      "| R + 3 | T7        | T3        | T6        | T3        | T5        | T3        | T5        | T5        | T5        |\n",
      "+-------+-----------+-----------+-----------+-----------+-----------+-----------+-----------+-----------+-----------+\n",
      "| R + 2 | T7        | T3        | T6        | T3        | T5        | T3        | T5        | T5        | T5        |\n",
      "+-------+-----------+-----------+-----------+-----------+-----------+-----------+-----------+-----------+-----------+\n",
      "| R + 1 | T7        | T3        | T6        | T3        | T5        | T3        | T5        | T5        | T5        |\n",
      "+-------+-----------+-----------+-----------+-----------+-----------+-----------+-----------+-----------+-----------+\n",
      "| RdC   | T3        | X         | T3        | X         | T3        | X         | X         | X         | X         |\n",
      "+-------+-----------+-----------+-----------+-----------+-----------+-----------+-----------+-----------+-----------+\n"
     ]
    }
   ],
   "source": [
    "print(tabulate(np.transpose(Bat_Array_Order),headers=Header, tablefmt=\"grid\",showindex=Nom_Etage))"
   ]
  },
  {
   "cell_type": "markdown",
   "id": "c7c4bdf5-a71e-45ec-ab30-eec8ecd64ba5",
   "metadata": {},
   "source": [
    "## Version propre ##"
   ]
  },
  {
   "cell_type": "code",
   "execution_count": 46,
   "id": "fc4e026c-b20a-40df-a479-33c7ea97b968",
   "metadata": {},
   "outputs": [],
   "source": [
    "Nb_Entree = 3\n",
    "Nb_Empil = 3\n",
    "Nb_Etage = 4\n",
    "\n",
    "Lst_Typo_Default = {'T1' : 0,\n",
    "            'T1B': 0,\n",
    "            'T2' : 0,\n",
    "            'T2B': 0,\n",
    "            'T3' : 0,\n",
    "            'T3B': 0,\n",
    "            'T4' : 0,\n",
    "            'T5' : 0,\n",
    "            'T6' : 0,\n",
    "            'T7' : 23,\n",
    "           }\n",
    "\n",
    "\n",
    "Taille_Bat = Nb_Entree * Nb_Empil\n",
    "Header = []\n",
    "for i in range(Nb_Entree):\n",
    "    for j in range(Nb_Empil):\n",
    "        Header.append(\"E.{} E.{}\".format(i+1,j+1))\n",
    "        \n",
    "Lst_Typo = Lst_Typo_Default.copy()\n",
    "Bat_Array_Sans_RDC = [[\"X\"] * (Nb_Etage -1)] * (len(Header)) #Empilement en ligne\n",
    "\n",
    "for i in range(len(Bat_Array_Sans_RDC)):\n",
    "    for Typo in list(reversed(list(Lst_Typo.keys()))):\n",
    "        if Lst_Typo.get(Typo) >= (Nb_Etage -1):\n",
    "            Bat_Array_Sans_RDC[i] = [Typo] * (Nb_Etage -1)\n",
    "            Lst_Typo[Typo] = Lst_Typo[Typo] - (Nb_Etage -1)\n",
    "            break\n",
    "        "
   ]
  },
  {
   "cell_type": "code",
   "execution_count": 48,
   "id": "86e716de-1b25-47ac-a115-20b16ab34b4f",
   "metadata": {},
   "outputs": [
    {
     "name": "stdout",
     "output_type": "stream",
     "text": [
      "╒═══════╤═══════════╤═══════════╤═══════════╤═══════════╤═══════════╤═══════════╤═══════════╤═══════════╤═══════════╕\n",
      "│       │ E.1 E.1   │ E.1 E.2   │ E.1 E.3   │ E.2 E.1   │ E.2 E.2   │ E.2 E.3   │ E.3 E.1   │ E.3 E.2   │ E.3 E.3   │\n",
      "╞═══════╪═══════════╪═══════════╪═══════════╪═══════════╪═══════════╪═══════════╪═══════════╪═══════════╪═══════════╡\n",
      "│ R + 3 │ T7        │ X         │ T7        │ X         │ T7        │ T7        │ T7        │ T7        │ T7        │\n",
      "├───────┼───────────┼───────────┼───────────┼───────────┼───────────┼───────────┼───────────┼───────────┼───────────┤\n",
      "│ R + 2 │ T7        │ X         │ T7        │ X         │ T7        │ T7        │ T7        │ T7        │ T7        │\n",
      "├───────┼───────────┼───────────┼───────────┼───────────┼───────────┼───────────┼───────────┼───────────┼───────────┤\n",
      "│ R + 1 │ T7        │ X         │ T7        │ X         │ T7        │ T7        │ T7        │ T7        │ T7        │\n",
      "├───────┼───────────┼───────────┼───────────┼───────────┼───────────┼───────────┼───────────┼───────────┼───────────┤\n",
      "│ RdC   │ X         │ X         │ X         │ X         │ X         │ X         │ X         │ X         │ X         │\n",
      "╘═══════╧═══════════╧═══════════╧═══════════╧═══════════╧═══════════╧═══════════╧═══════════╧═══════════╧═══════════╛\n"
     ]
    }
   ],
   "source": [
    "Bat_Array = Bat_Array_Sans_RDC.copy()\n",
    "            \n",
    "for i in range(len(Bat_Array)):\n",
    "    Bat_Array[i] = Bat_Array[i] + [\"X\"]\n",
    "    for Typo in list(reversed(list(Lst_Typo.keys()))):\n",
    "        if Lst_Typo.get(Typo) != 0:\n",
    "            Bat_Array[i][-1] = Typo\n",
    "            Lst_Typo[Typo] = Lst_Typo[Typo] - 1\n",
    "            break\n",
    "            \n",
    "Nom_Etage = [\"RdC\"]\n",
    "for i in range(Nb_Etage -1):\n",
    "    Nom_Etage.append(\"R + {}\".format(i + 1))\n",
    "                     \n",
    "Nom_Etage = list(reversed(Nom_Etage))\n",
    "\n",
    "Bat_Array_Buffer = Bat_Array.copy()\n",
    "Bat_Array_Order = []\n",
    "\n",
    "while len(Bat_Array_Buffer) != 0:\n",
    "    Bat_Array_Order.append(Bat_Array_Buffer[0])\n",
    "    Bat_Array_Buffer.pop(0)\n",
    "    Bat_Array_Buffer.reverse()\n",
    "\n",
    "print(tabulate(np.transpose(Bat_Array_Order),headers=Header, tablefmt=\"fancy_grid\",showindex=Nom_Etage))\n",
    "\n",
    "for Typo in Lst_Typo:\n",
    "    if Lst_Typo[Typo] != 0:\n",
    "        print(\"Reste {} {}\".format(Lst_Typo[Typo],Typo)) "
   ]
  },
  {
   "cell_type": "code",
   "execution_count": null,
   "id": "60271569-437e-4242-afe3-87b1584ffc50",
   "metadata": {},
   "outputs": [],
   "source": []
  },
  {
   "cell_type": "code",
   "execution_count": null,
   "id": "f3480c50-0dc1-4d4e-94da-026882b5a6c8",
   "metadata": {},
   "outputs": [],
   "source": []
  },
  {
   "cell_type": "code",
   "execution_count": null,
   "id": "40df0787-99d1-404a-af1a-67ae38033178",
   "metadata": {},
   "outputs": [],
   "source": []
  },
  {
   "cell_type": "code",
   "execution_count": null,
   "id": "78b031bc-9058-4050-8a7c-1c99b9fae158",
   "metadata": {},
   "outputs": [],
   "source": []
  },
  {
   "cell_type": "code",
   "execution_count": null,
   "id": "2a83e0e4-dd82-4814-b022-7d9de7430871",
   "metadata": {},
   "outputs": [],
   "source": []
  }
 ],
 "metadata": {
  "kernelspec": {
   "display_name": "Python 3 (ipykernel)",
   "language": "python",
   "name": "python3"
  },
  "language_info": {
   "codemirror_mode": {
    "name": "ipython",
    "version": 3
   },
   "file_extension": ".py",
   "mimetype": "text/x-python",
   "name": "python",
   "nbconvert_exporter": "python",
   "pygments_lexer": "ipython3",
   "version": "3.9.7"
  }
 },
 "nbformat": 4,
 "nbformat_minor": 5
}
